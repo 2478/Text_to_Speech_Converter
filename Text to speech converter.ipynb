{
 "cells": [
  {
   "cell_type": "code",
   "execution_count": 1,
   "metadata": {},
   "outputs": [
    {
     "name": "stdout",
     "output_type": "stream",
     "text": [
      "Requirement already satisfied: gtts in c:\\programdata\\anaconda3\\lib\\site-packages (2.2.2)\n",
      "Requirement already satisfied: requests in c:\\programdata\\anaconda3\\lib\\site-packages (from gtts) (2.24.0)\n",
      "Requirement already satisfied: click in c:\\programdata\\anaconda3\\lib\\site-packages (from gtts) (7.1.2)\n",
      "Requirement already satisfied: six in c:\\programdata\\anaconda3\\lib\\site-packages (from gtts) (1.15.0)\n",
      "Requirement already satisfied: idna<3,>=2.5 in c:\\programdata\\anaconda3\\lib\\site-packages (from requests->gtts) (2.10)\n",
      "Requirement already satisfied: certifi>=2017.4.17 in c:\\programdata\\anaconda3\\lib\\site-packages (from requests->gtts) (2020.6.20)\n",
      "Requirement already satisfied: urllib3!=1.25.0,!=1.25.1,<1.26,>=1.21.1 in c:\\programdata\\anaconda3\\lib\\site-packages (from requests->gtts) (1.25.11)\n",
      "Requirement already satisfied: chardet<4,>=3.0.2 in c:\\programdata\\anaconda3\\lib\\site-packages (from requests->gtts) (3.0.4)\n",
      "Note: you may need to restart the kernel to use updated packages.\n"
     ]
    }
   ],
   "source": [
    "pip install gtts"
   ]
  },
  {
   "cell_type": "code",
   "execution_count": 2,
   "metadata": {},
   "outputs": [],
   "source": [
    "from tkinter import *\n",
    "from gtts import gTTS\n",
    "\n",
    "# this module helps to \n",
    "# play the converted audio  \n",
    "import os\n",
    "\n",
    "root = Tk()\n",
    "\n",
    "frame1 = Frame(root,\n",
    "               bg = \"yellow\", \n",
    "               height = \"200\")\n",
    "  \n",
    "# plcae the widget in gui window\n",
    "frame1.pack(fill = X)\n",
    "frame2 = Frame(root, \n",
    "               bg = \"Blue\", \n",
    "               height = \"750\")\n",
    "frame2.pack(fill=X)\n",
    "\n",
    "label = Label(frame1, text = \"Enter Text to Speech\", \n",
    "              font = \"bold, 30\", fg=\"black\" ,\n",
    "              bg = \"yellow\")\n",
    "  \n",
    "label.place(x = 180, y = 70)\n",
    " \n",
    "entry = Entry(frame2, width = 45, \n",
    "              bd = 4, font = 14)\n",
    "  \n",
    "entry.place(x = 130, y = 52)\n",
    "entry.insert(0, \"\")\n",
    "\n",
    "def play():\n",
    "    language = \"en\"\n",
    "\n",
    "   # Passing the text  and language,  \n",
    "   # here we have  slow=False. Which tells  \n",
    "   # the module that the converted audio should  \n",
    "   # have a high speed  \n",
    "  \n",
    "    myobj = gTTS(text = entry.get(),\n",
    "                lang = language, \n",
    "                slow = False)\n",
    "\n",
    "    # give the name as you want to  \n",
    "    # save the audio\n",
    "    myobj.save(\"convert.wav\")\n",
    "    os.system(\"convert.wav\")\n",
    "\n",
    "# our play function using command = play\n",
    "btn = Button(frame2, text = \"PLAY\",\n",
    "             width = \"15\", pady = 10,\n",
    "             font = \"bold, 15\", \n",
    "             command = play, bg='pink')\n",
    "  \n",
    "btn.place(x = 250, \n",
    "          y = 130)\n",
    "  \n",
    "\n",
    "root.title(\"Text to Speech Convertor\")\n",
    "root.geometry(\"650x550+350+200\")\n",
    "root.mainloop()\n"
   ]
  },
  {
   "cell_type": "code",
   "execution_count": 51,
   "metadata": {},
   "outputs": [],
   "source": []
  },
  {
   "cell_type": "code",
   "execution_count": null,
   "metadata": {},
   "outputs": [],
   "source": []
  }
 ],
 "metadata": {
  "kernelspec": {
   "display_name": "Python 3",
   "language": "python",
   "name": "python3"
  },
  "language_info": {
   "codemirror_mode": {
    "name": "ipython",
    "version": 3
   },
   "file_extension": ".py",
   "mimetype": "text/x-python",
   "name": "python",
   "nbconvert_exporter": "python",
   "pygments_lexer": "ipython3",
   "version": "3.8.5"
  }
 },
 "nbformat": 4,
 "nbformat_minor": 4
}
